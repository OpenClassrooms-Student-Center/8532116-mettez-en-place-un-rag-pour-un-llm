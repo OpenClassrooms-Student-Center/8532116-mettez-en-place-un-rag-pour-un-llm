{
  "nbformat": 4,
  "nbformat_minor": 0,
  "metadata": {
    "colab": {
      "private_outputs": true,
      "provenance": []
    },
    "kernelspec": {
      "name": "python3",
      "display_name": "Python 3"
    },
    "language_info": {
      "name": "python"
    }
  },
  "cells": [
    {
      "cell_type": "markdown",
      "source": [
        "## Correction Dockling\n",
        "\n",
        "---\n",
        "\n"
      ],
      "metadata": {
        "id": "7_YFWBgSxHto"
      }
    },
    {
      "cell_type": "code",
      "source": [
        "# Bouton pour uploader un fichier au début du notebook\n",
        "from google.colab import files\n",
        "uploaded = files.upload()"
      ],
      "metadata": {
        "collapsed": true,
        "id": "gjUcwd-Kxgxt"
      },
      "execution_count": null,
      "outputs": []
    },
    {
      "cell_type": "code",
      "source": [
        "!unzip /content/inputs.zip"
      ],
      "metadata": {
        "collapsed": true,
        "id": "co-sUwmnzaZU"
      },
      "execution_count": null,
      "outputs": []
    },
    {
      "cell_type": "code",
      "source": [
        "# Chemin du répertoire contenant les documents extraits\n",
        "input_directory = '/content/inputs'"
      ],
      "metadata": {
        "id": "VbW7tbUEzqzc"
      },
      "execution_count": null,
      "outputs": []
    },
    {
      "cell_type": "code",
      "execution_count": null,
      "metadata": {
        "collapsed": true,
        "id": "aahMCfUvwxRF"
      },
      "outputs": [],
      "source": [
        "!pip install docling --quiet"
      ]
    },
    {
      "cell_type": "code",
      "source": [
        "import os\n",
        "from docling.document_converter import DocumentConverter\n",
        "\n",
        "# Chemin du répertoire où seront enregistrés les fichiers convertis\n",
        "output_directory = '/content/output'\n",
        "os.makedirs(output_directory, exist_ok=True)\n",
        "\n",
        "# Initialisation du convertisseur Docling\n",
        "converter = DocumentConverter()\n",
        "\n",
        "# Parcours de chaque fichier dans le répertoire d'entrée\n",
        "for filename in os.listdir(input_directory):\n",
        "    file_path = os.path.join(input_directory, filename)\n",
        "    if os.path.isfile(file_path):\n",
        "        try:\n",
        "            # Conversion du document\n",
        "            result = converter.convert(file_path)\n",
        "            # Génération du nom de fichier de sortie avec l'extension .md\n",
        "            output_filename = os.path.splitext(filename)[0] + '.md'\n",
        "            output_path = os.path.join(output_directory, output_filename)\n",
        "            # Enregistrement du contenu converti en Markdown\n",
        "            with open(output_path, 'w', encoding='utf-8') as md_file:\n",
        "                md_file.write(result.document.export_to_markdown())\n",
        "            print(f\"Conversion réussie pour : {filename}\")\n",
        "        except Exception as e:\n",
        "            print(f\"Échec de la conversion pour : {filename}. Erreur : {e}\")"
      ],
      "metadata": {
        "collapsed": true,
        "id": "iNePf4MIxVHW"
      },
      "execution_count": null,
      "outputs": []
    }
  ]
}