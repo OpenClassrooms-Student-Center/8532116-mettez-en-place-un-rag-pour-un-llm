{
 "cells": [
  {
   "cell_type": "code",
   "execution_count": null,
   "metadata": {
    "id": "NW54QzH-h9hu"
   },
   "outputs": [],
   "source": [
    "# Installer Faiss (version CPU)\n",
    "!pip install faiss-cpu\n",
    "\n",
    "# Installer le client Mistral\n",
    "!pip install mistralai"
   ]
  },
  {
   "cell_type": "code",
   "execution_count": null,
   "metadata": {
    "id": "iRWblAedh9k3"
   },
   "outputs": [],
   "source": [
    "import os\n",
    "os.environ[\"MISTRAL_API_KEY\"] = \"\""
   ]
  },
  {
   "cell_type": "code",
   "execution_count": null,
   "metadata": {
    "id": "ihXhCFHNh9oU"
   },
   "outputs": [],
   "source": [
    "from mistralai import Mistral\n",
    "import os\n",
    "import numpy as np\n",
    "\n",
    "# Initialisation du client avec votre clé API\n",
    "api_key = os.environ[\"MISTRAL_API_KEY\"]  # Assurez-vous que cette variable d'environnement est définie\n",
    "client = Mistral(api_key=api_key)\n",
    "\n",
    "# Fonction pour générer l'embedding d'un texte\n",
    "def embed_text(text):\n",
    "    # Utilisation de la méthode 'create' de l'objet 'embeddings'\n",
    "    response = client.embeddings.create(\n",
    "        model=\"mistral-embed\",\n",
    "        inputs=[text]  # Notez que 'inputs' doit être une liste de textes\n",
    "    )\n",
    "    return response.data[0].embedding\n",
    "\n",
    "# Exemple de documents à indexer\n",
    "documents = [\n",
    "    \"La mairie est ouverte du lundi au vendredi de 9h à 17h.\",\n",
    "    \"Le règlement municipal interdit le stationnement devant les écoles.\",\n",
    "    \"Les horaires des déchetteries varient selon les saisons.\",\n",
    "    \"Les demandes de passeport se font uniquement sur rendez-vous.\",\n",
    "    \"Les aides sociales sont disponibles sous conditions de revenus.\"\n",
    "]\n",
    "\n",
    "# Génération des embeddings pour chaque document\n",
    "embeddings = np.array([embed_text(doc) for doc in documents])"
   ]
  },
  {
   "cell_type": "code",
   "execution_count": null,
   "metadata": {
    "id": "43jmfToXh9rs"
   },
   "outputs": [],
   "source": [
    "import faiss\n",
    "\n",
    "# Dimension des vecteurs (embedding size)\n",
    "dimension = embeddings.shape[1]\n",
    "\n",
    "# Création d'un index Faiss L2 (distance euclidienne)\n",
    "index = faiss.IndexFlatL2(dimension)\n",
    "\n",
    "# Ajout des vecteurs à l'index\n",
    "index.add(embeddings)\n",
    "\n",
    "# Sauvegarde éventuelle\n",
    "faiss.write_index(index, \"faiss_index.idx\")"
   ]
  },
  {
   "cell_type": "code",
   "execution_count": null,
   "metadata": {
    "id": "6DjO3xQBh9vE"
   },
   "outputs": [],
   "source": [
    "# Requête utilisateur\n",
    "query = \"Quels sont les horaires d'ouverture de la mairie ?\"\n",
    "\n",
    "# Génération de l'embedding de la requête\n",
    "query_embedding = embed_text(query)\n",
    "\n",
    "# Recherche des 3 documents les plus proches\n",
    "k = 3\n",
    "distances, indices = index.search(np.array([query_embedding]), k)\n",
    "\n",
    "# Affichage des résultats\n",
    "print(\"Résultats les plus pertinents :\\n\")\n",
    "for i, idx in enumerate(indices[0]):\n",
    "    print(f\"📝 Document {idx} (distance: {distances[0][i]:.4f}) :\\n{documents[idx]}\\n\")"
   ]
  },
  {
   "cell_type": "code",
   "execution_count": null,
   "metadata": {
    "id": "iMtLbDT8h9yc"
   },
   "outputs": [],
   "source": []
  },
  {
   "cell_type": "code",
   "execution_count": null,
   "metadata": {
    "id": "9NA7-B0Fh910"
   },
   "outputs": [],
   "source": []
  },
  {
   "cell_type": "code",
   "execution_count": null,
   "metadata": {
    "id": "Hnt9p4E8h94_"
   },
   "outputs": [],
   "source": []
  },
  {
   "cell_type": "code",
   "execution_count": null,
   "metadata": {
    "id": "kg9h_k_eh98l"
   },
   "outputs": [],
   "source": []
  },
  {
   "cell_type": "code",
   "execution_count": null,
   "metadata": {
    "id": "hedh8MTHh9_a"
   },
   "outputs": [],
   "source": []
  }
 ],
 "metadata": {
  "colab": {
   "private_outputs": true,
   "provenance": [],
   "toc_visible": true
  },
  "kernelspec": {
   "display_name": "Python 3",
   "name": "python3"
  },
  "language_info": {
   "name": "python"
  }
 },
 "nbformat": 4,
 "nbformat_minor": 0
}
