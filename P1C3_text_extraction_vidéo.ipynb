{
  "nbformat": 4,
  "nbformat_minor": 0,
  "metadata": {
    "colab": {
      "private_outputs": true,
      "provenance": [],
      "toc_visible": true,
      "gpuType": "T4"
    },
    "kernelspec": {
      "name": "python3",
      "display_name": "Python 3"
    },
    "language_info": {
      "name": "python"
    },
    "accelerator": "GPU"
  },
  "cells": [
    {
      "cell_type": "code",
      "source": [
        "import warnings\n",
        "warnings.filterwarnings(\"ignore\")"
      ],
      "metadata": {
        "id": "afme3Cl6RSfh"
      },
      "execution_count": null,
      "outputs": []
    },
    {
      "cell_type": "markdown",
      "source": [
        "## Extraire les textes issus des documents pdf\n",
        "---"
      ],
      "metadata": {
        "id": "7tJ9WRs0bcuI"
      }
    },
    {
      "cell_type": "code",
      "source": [
        "# Bouton pour uploader un fichier au début du notebook\n",
        "from google.colab import files\n",
        "uploaded = files.upload()"
      ],
      "metadata": {
        "collapsed": true,
        "id": "TR1hRaJtHPqx"
      },
      "execution_count": null,
      "outputs": []
    },
    {
      "cell_type": "code",
      "source": [
        "# Chemin vers le fichier PDF\n",
        "pdf_path = \"/content/Acceuil_affichage_Mairie de Triffouillis sur Loire.pdf\""
      ],
      "metadata": {
        "id": "TbPzPHYbSRpx"
      },
      "execution_count": null,
      "outputs": []
    },
    {
      "cell_type": "markdown",
      "source": [
        "### markitdown"
      ],
      "metadata": {
        "id": "RQIJDl5jHaIq"
      }
    },
    {
      "cell_type": "code",
      "source": [
        "!pip install markitdown --quiet"
      ],
      "metadata": {
        "id": "g7WRnDa9HWo3"
      },
      "execution_count": null,
      "outputs": []
    },
    {
      "cell_type": "code",
      "source": [
        "from markitdown import MarkItDown\n",
        "\n",
        "md = MarkItDown()\n",
        "result = md.convert(pdf_path)\n",
        "print(result.text_content)"
      ],
      "metadata": {
        "collapsed": true,
        "id": "CnWaIS1tQs-D"
      },
      "execution_count": null,
      "outputs": []
    },
    {
      "cell_type": "markdown",
      "source": [
        "### PyPDF2"
      ],
      "metadata": {
        "id": "_N3zsEHobn8F"
      }
    },
    {
      "cell_type": "code",
      "source": [
        "!pip install PyPDF2 --quiet"
      ],
      "metadata": {
        "collapsed": true,
        "id": "8wGK0NRla4T-"
      },
      "execution_count": null,
      "outputs": []
    },
    {
      "cell_type": "code",
      "execution_count": null,
      "metadata": {
        "collapsed": true,
        "id": "YzvpC87haFzs"
      },
      "outputs": [],
      "source": [
        "import PyPDF2\n",
        "\n",
        "# Ouvrir le fichier PDF en mode lecture binaire\n",
        "with open(pdf_path, \"rb\") as pdf_file:\n",
        "    # Créer un lecteur PDF\n",
        "    pdf_reader = PyPDF2.PdfReader(pdf_file)\n",
        "\n",
        "    # Extraire le texte de chaque page\n",
        "    text = \"\"\n",
        "    for page_num in range(len(pdf_reader.pages)):\n",
        "        page = pdf_reader.pages[page_num]\n",
        "        text += page.extract_text()\n",
        "\n",
        "    # Afficher le texte extrait\n",
        "    print(text)"
      ]
    },
    {
      "cell_type": "markdown",
      "source": [
        "### pymupdf4llm"
      ],
      "metadata": {
        "id": "A-ELIgdOSBqp"
      }
    },
    {
      "cell_type": "code",
      "source": [
        "!pip install pymupdf4llm --quiet"
      ],
      "metadata": {
        "id": "FTvUIVv1SBjs"
      },
      "execution_count": null,
      "outputs": []
    },
    {
      "cell_type": "code",
      "source": [
        "import pymupdf4llm\n",
        "\n",
        "md_text = pymupdf4llm.to_markdown(pdf_path)\n",
        "print(\"=== Contenu Markdown extrait avec PyMuPDF4LLM ===\")\n",
        "print(md_text)"
      ],
      "metadata": {
        "collapsed": true,
        "id": "iLZDxUXfSAky"
      },
      "execution_count": null,
      "outputs": []
    },
    {
      "cell_type": "markdown",
      "source": [
        "## Océriser les textes contenus dans les images\n",
        "\n",
        "---\n",
        "\n"
      ],
      "metadata": {
        "id": "zxnPs5YbTKkI"
      }
    },
    {
      "cell_type": "code",
      "source": [
        "# Bouton pour uploader un fichier au début du notebook\n",
        "from google.colab import files\n",
        "uploaded = files.upload()"
      ],
      "metadata": {
        "collapsed": true,
        "id": "XsnuBPSJWqBV"
      },
      "execution_count": null,
      "outputs": []
    },
    {
      "cell_type": "code",
      "source": [
        "image_path = \"/content/marche_noel_trifouillis_2023.png\""
      ],
      "metadata": {
        "id": "UGWoyiquWq8d"
      },
      "execution_count": null,
      "outputs": []
    },
    {
      "cell_type": "markdown",
      "source": [
        "### Easy OCR"
      ],
      "metadata": {
        "id": "UtXGgaClTZAp"
      }
    },
    {
      "cell_type": "code",
      "source": [
        "!pip install easyocr --quiet"
      ],
      "metadata": {
        "collapsed": true,
        "id": "4ptQHf9zUayR"
      },
      "execution_count": null,
      "outputs": []
    },
    {
      "cell_type": "code",
      "source": [
        "import easyocr\n",
        "import os\n",
        "\n",
        "# Initialiser EasyOCR\n",
        "reader = easyocr.Reader(['fr'])  # 'fr' pour le français, ajoutez d'autres langues si nécessaire\n",
        "\n",
        "# Extraire le texte de chaque image\n",
        "full_text = \"\"\n",
        "\n",
        "# Appliquer l'OCR sur l'image\n",
        "results = reader.readtext(image_path)\n",
        "\n",
        "# Formater les résultats\n",
        "for (bbox, text, prob) in results:\n",
        "    full_text += text + \"\\n\"\n",
        "print(full_text)"
      ],
      "metadata": {
        "collapsed": true,
        "id": "A4u5hB9ETJ7Z"
      },
      "execution_count": null,
      "outputs": []
    },
    {
      "cell_type": "markdown",
      "source": [
        "### GOT OCR"
      ],
      "metadata": {
        "id": "Q7u7gV6iTcAY"
      }
    },
    {
      "cell_type": "code",
      "source": [
        "!pip install tiktoken --quiet\n",
        "!pip install verovio --quiet"
      ],
      "metadata": {
        "collapsed": true,
        "id": "sx_UIVsDciFV"
      },
      "execution_count": null,
      "outputs": []
    },
    {
      "cell_type": "code",
      "source": [
        "from transformers import AutoModel, AutoTokenizer\n",
        "\n",
        "tokenizer = AutoTokenizer.from_pretrained('ucaslcl/GOT-OCR2_0', trust_remote_code=True)\n",
        "model = AutoModel.from_pretrained('ucaslcl/GOT-OCR2_0', trust_remote_code=True, low_cpu_mem_usage=True, device_map='cuda', use_safetensors=True, pad_token_id=tokenizer.eos_token_id)\n",
        "\n",
        "# plain texts OCR\n",
        "res = model.chat(tokenizer, image_path, ocr_type='ocr')\n",
        "\n",
        "print(res)"
      ],
      "metadata": {
        "collapsed": true,
        "id": "vjwQ5ArdcK2I"
      },
      "execution_count": null,
      "outputs": []
    },
    {
      "cell_type": "markdown",
      "source": [
        "## Extraire les textes issus des documents audios\n",
        "\n",
        "---\n",
        "\n"
      ],
      "metadata": {
        "id": "7MkCk29xSun5"
      }
    },
    {
      "cell_type": "code",
      "source": [
        "# Bouton pour uploader un fichier au début du notebook\n",
        "from google.colab import files\n",
        "uploaded = files.upload()"
      ],
      "metadata": {
        "id": "Sp_teO9_t81P"
      },
      "execution_count": null,
      "outputs": []
    },
    {
      "cell_type": "code",
      "source": [
        "# Chemin vers le fichier PDF\n",
        "audio_path = \"/content/voeux2025_trifouillis.wav\""
      ],
      "metadata": {
        "id": "guooZ-B6t9ek"
      },
      "execution_count": null,
      "outputs": []
    },
    {
      "cell_type": "markdown",
      "source": [
        "### Whisper"
      ],
      "metadata": {
        "id": "wPAOaaAAS0nx"
      }
    },
    {
      "cell_type": "code",
      "source": [
        "!pip install -U openai-whisper --quiet"
      ],
      "metadata": {
        "collapsed": true,
        "id": "bUG8P9tDtzhq"
      },
      "execution_count": null,
      "outputs": []
    },
    {
      "cell_type": "code",
      "source": [
        "import whisper\n",
        "\n",
        "# Transcrire avec Whisper\n",
        "def transcribe_audio_with_whisper(audio_file, model_name=\"base\"):\n",
        "    # Charger le modèle Whisper\n",
        "    model = whisper.load_model(model_name)\n",
        "\n",
        "    # Transcrire le fichier audio\n",
        "    result = model.transcribe(audio_file)\n",
        "\n",
        "    # Afficher la transcription\n",
        "    print(\"Transcription :\")\n",
        "    print(result[\"text\"])\n",
        "\n",
        "# Transcrire l'audio avec Whisper\n",
        "transcribe_audio_with_whisper(audio_path)"
      ],
      "metadata": {
        "collapsed": true,
        "id": "CbxBQjGxS24I"
      },
      "execution_count": null,
      "outputs": []
    },
    {
      "cell_type": "markdown",
      "source": [
        "## Génération de l'audio\n",
        "\n",
        "---\n",
        "\n",
        "\n",
        "\n",
        "\n"
      ],
      "metadata": {
        "id": "-vFpLJhZkKWC"
      }
    },
    {
      "cell_type": "code",
      "source": [
        "from transformers import VitsModel, AutoTokenizer\n",
        "import torch\n",
        "import numpy as np\n",
        "\n",
        "model = VitsModel.from_pretrained(\"facebook/mms-tts-fra\")\n",
        "tokenizer = AutoTokenizer.from_pretrained(\"facebook/mms-tts-fra\")\n",
        "\n",
        "text = \"\"\"Chères Trifouillaises, chers Trifouillais,\n",
        "C’est avec une grande émotion et une immense fierté que je me tiens devant vous ce soir pour vous adresser mes vœux les plus sincères en ce début d’année 2025. L’année écoulée a été marquée par de nombreux défis, mais aussi par de belles avancées pour notre commune.\n",
        "Nous ne pouvons ignorer le contexte régional et national, qui demeure complexe et parfois source d’inquiétudes. Les Pays de la Loire traversent une période de tensions économiques et sociales, et nous sommes pleinement conscients des préoccupations qui peuvent être les vôtres. Mais je veux vous dire ici, avec force et conviction : nous sommes unis, solidaires, et nous avons en nous toutes les ressources pour faire face aux épreuves. Trifouillis-sur-Loire a toujours su se relever et avancer, et 2025 ne fera pas exception.\n",
        "Je sais que la fermeture de notre gare a suscité de vives inquiétudes, et je comprends votre attachement à ce service de transport essentiel. Mais loin de voir cela comme une régression, nous avons souhaité en faire une opportunité pour notre ville. Dès cette année, Trifouillis-sur-Loire se dotera d’une flotte de bus 100 % électriques, modernes et accessibles, permettant de relier efficacement notre commune aux pôles de transport régionaux. Nous avons travaillé main dans la main avec la Région et les autorités de transport pour garantir une solution fiable et adaptée aux besoins de chacun. Soyez assurés que nous continuerons à œuvrer pour améliorer la mobilité et l’accessibilité de notre territoire.\n",
        "Au-delà de cette transition, 2025 sera une année placée sous le signe de l’innovation et du développement durable. Nous poursuivrons notre engagement en faveur de l’écologie, avec de nouveaux projets d’aménagement urbain, de préservation de notre patrimoine naturel et de soutien aux initiatives locales.\n",
        "Je tiens également à saluer l’engagement de nos associations, de nos commerçants, de nos artisans, et de toutes celles et ceux qui participent activement à la vie de notre commune. Trifouillis-sur-Loire, c’est avant tout une communauté soudée, forte de son histoire et tournée vers l’avenir.\n",
        "En ce début d’année, je veux vous adresser un message d’optimisme et d’espoir. Ensemble, nous continuerons à bâtir une ville plus dynamique, plus solidaire et plus durable.\n",
        "Je vous souhaite, à toutes et à tous, une très belle année 2025, remplie de santé, de bonheur et de réussite.\n",
        "Vive Trifouillis-sur-Loire ! Vive notre belle région ! Et vive la République !\n",
        "\"\"\"\n",
        "\n",
        "inputs = tokenizer(text, return_tensors=\"pt\")\n",
        "with torch.no_grad():\n",
        "    output = model(**inputs).waveform\n",
        "\n",
        "# Conversion en NumPy et normalisation\n",
        "audio_numpy = output.cpu().numpy().squeeze()  # Convertir en tableau NumPy et retirer la dimension inutile\n",
        "audio_int16 = (audio_numpy * 32767).astype(np.int16)  # Conversion en int16 pour compatibilité WAV\n",
        "\n",
        "# Sauvegarde en fichier audio\n",
        "scipy.io.wavfile.write(\"voeux2025_trifouillis.wav\", rate=model.config.sampling_rate, data=audio_int16)\n",
        "\n",
        "# Lecture de l'audio\n",
        "from IPython.display import Audio\n",
        "Audio(audio_int16, rate=model.config.sampling_rate)"
      ],
      "metadata": {
        "collapsed": true,
        "id": "4NlYki-5jza3"
      },
      "execution_count": null,
      "outputs": []
    }
  ]
}